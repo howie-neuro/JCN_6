{
 "cells": [
  {
   "cell_type": "code",
   "execution_count": 2,
   "metadata": {},
   "outputs": [
    {
     "data": {
      "application/vdom.v1+json": {
       "attributes": {},
       "tagName": "div"
      },
      "text/html": [
       "\n",
       "                <script>\n",
       "                    if (Jupyter.version.split(\".\")[0] < 5) {\n",
       "                        var pb = document.getElementById(\"b3d8f341-d377-463c-9186-59e4e6328e80\");\n",
       "                        var text = document.createTextNode(\n",
       "                            \"HMTL progress bar requires Jupyter Notebook >= \" +\n",
       "                            \"5.0 or Jupyter Lab. Alternatively, you can use \" +\n",
       "                            \"TerminalProgressBar().\");\n",
       "                        pb.parentNode.insertBefore(text, pb);\n",
       "                    }\n",
       "                </script>\n",
       "                <div id=\"b3d8f341-d377-463c-9186-59e4e6328e80\" style=\"\n",
       "                    width: 100%;\n",
       "                    border: 1px solid #cfcfcf;\n",
       "                    border-radius: 4px;\n",
       "                    text-align: center;\n",
       "                    position: relative;\">\n",
       "                  <div class=\"pb-text\" style=\"\n",
       "                      position: absolute;\n",
       "                      width: 100%;\">\n",
       "                    0%\n",
       "                  </div>\n",
       "                  <div class=\"pb-fill\" style=\"\n",
       "                      background-color: #bdd2e6;\n",
       "                      width: 0%;\">\n",
       "                    <style type=\"text/css\" scoped=\"scoped\">\n",
       "                        @keyframes pb-fill-anim {\n",
       "                            0% { background-position: 0 0; }\n",
       "                            100% { background-position: 100px 0; }\n",
       "                        }\n",
       "                    </style>\n",
       "                    &nbsp;\n",
       "                  </div>\n",
       "                </div>"
      ],
      "text/plain": [
       "HtmlProgressBar cannot be displayed. Please use the TerminalProgressBar. It can be enabled with `nengo.rc.set('progress', 'progress_bar', 'nengo.utils.progress.TerminalProgressBar')`."
      ]
     },
     "metadata": {},
     "output_type": "display_data"
    },
    {
     "data": {
      "application/vdom.v1+json": {
       "attributes": {
        "id": "85566d61-f2d0-41bf-a5a0-54c861b71dd7",
        "style": {
         "border": "1px solid #cfcfcf",
         "borderRadius": "4px",
         "boxSizing": "border-box",
         "position": "relative",
         "textAlign": "center",
         "width": "100%"
        }
       },
       "children": [
        {
         "attributes": {
          "class": "pb-text",
          "style": {
           "position": "absolute",
           "width": "100%"
          }
         },
         "children": [
          "Build finished in 0:00:06."
         ],
         "tagName": "div"
        },
        {
         "attributes": {
          "class": "pb-fill",
          "style": {
           "animation": "none",
           "backgroundColor": "#bdd2e6",
           "backgroundImage": "none",
           "backgroundSize": "100px 100%",
           "width": "100%"
          }
         },
         "children": [
          {
           "attributes": {
            "scoped": "scoped",
            "type": "text/css"
           },
           "children": [
            "\n                        @keyframes pb-fill-anim {\n                            0% { background-position: 0 0; }\n                            100% { background-position: 100px 0; }\n                        }}"
           ],
           "tagName": "style"
          },
          " "
         ],
         "tagName": "div"
        }
       ],
       "tagName": "div"
      },
      "text/html": [
       "<script>\n",
       "              (function () {\n",
       "                  var root = document.getElementById('b3d8f341-d377-463c-9186-59e4e6328e80');\n",
       "                  var text = root.getElementsByClassName('pb-text')[0];\n",
       "                  var fill = root.getElementsByClassName('pb-fill')[0];\n",
       "\n",
       "                  text.innerHTML = 'Build finished in 0:00:06.';\n",
       "                  \n",
       "            fill.style.width = '100%';\n",
       "            fill.style.animation = 'pb-fill-anim 2s linear infinite';\n",
       "            fill.style.backgroundSize = '100px 100%';\n",
       "            fill.style.backgroundImage = 'repeating-linear-gradient(' +\n",
       "                '90deg, #bdd2e6, #edf2f8 40%, #bdd2e6 80%, #bdd2e6)';\n",
       "        \n",
       "                  \n",
       "                fill.style.animation = 'none';\n",
       "                fill.style.backgroundImage = 'none';\n",
       "            \n",
       "              })();\n",
       "        </script>"
      ]
     },
     "metadata": {},
     "output_type": "display_data"
    },
    {
     "data": {
      "application/vdom.v1+json": {
       "attributes": {},
       "tagName": "div"
      },
      "text/html": [
       "\n",
       "                <script>\n",
       "                    if (Jupyter.version.split(\".\")[0] < 5) {\n",
       "                        var pb = document.getElementById(\"6ff5ecc0-7744-4c52-9f20-07eca8db6339\");\n",
       "                        var text = document.createTextNode(\n",
       "                            \"HMTL progress bar requires Jupyter Notebook >= \" +\n",
       "                            \"5.0 or Jupyter Lab. Alternatively, you can use \" +\n",
       "                            \"TerminalProgressBar().\");\n",
       "                        pb.parentNode.insertBefore(text, pb);\n",
       "                    }\n",
       "                </script>\n",
       "                <div id=\"6ff5ecc0-7744-4c52-9f20-07eca8db6339\" style=\"\n",
       "                    width: 100%;\n",
       "                    border: 1px solid #cfcfcf;\n",
       "                    border-radius: 4px;\n",
       "                    text-align: center;\n",
       "                    position: relative;\">\n",
       "                  <div class=\"pb-text\" style=\"\n",
       "                      position: absolute;\n",
       "                      width: 100%;\">\n",
       "                    0%\n",
       "                  </div>\n",
       "                  <div class=\"pb-fill\" style=\"\n",
       "                      background-color: #bdd2e6;\n",
       "                      width: 0%;\">\n",
       "                    <style type=\"text/css\" scoped=\"scoped\">\n",
       "                        @keyframes pb-fill-anim {\n",
       "                            0% { background-position: 0 0; }\n",
       "                            100% { background-position: 100px 0; }\n",
       "                        }\n",
       "                    </style>\n",
       "                    &nbsp;\n",
       "                  </div>\n",
       "                </div>"
      ],
      "text/plain": [
       "HtmlProgressBar cannot be displayed. Please use the TerminalProgressBar. It can be enabled with `nengo.rc.set('progress', 'progress_bar', 'nengo.utils.progress.TerminalProgressBar')`."
      ]
     },
     "metadata": {},
     "output_type": "display_data"
    },
    {
     "data": {
      "application/vdom.v1+json": {
       "attributes": {
        "id": "e919b28a-49b9-40e2-af97-9ec11841ee64",
        "style": {
         "border": "1px solid #cfcfcf",
         "borderRadius": "4px",
         "boxSizing": "border-box",
         "position": "relative",
         "textAlign": "center",
         "width": "100%"
        }
       },
       "children": [
        {
         "attributes": {
          "class": "pb-text",
          "style": {
           "position": "absolute",
           "width": "100%"
          }
         },
         "children": [
          "Simulation finished in 0:00:01."
         ],
         "tagName": "div"
        },
        {
         "attributes": {
          "class": "pb-fill",
          "style": {
           "animation": "none",
           "backgroundColor": "#bdd2e6",
           "backgroundImage": "none",
           "transition": "width 0.1s linear",
           "width": "100%"
          }
         },
         "children": [
          {
           "attributes": {
            "scoped": "scoped",
            "type": "text/css"
           },
           "children": [
            "\n                        @keyframes pb-fill-anim {\n                            0% { background-position: 0 0; }\n                            100% { background-position: 100px 0; }\n                        }}"
           ],
           "tagName": "style"
          },
          " "
         ],
         "tagName": "div"
        }
       ],
       "tagName": "div"
      },
      "text/html": [
       "<script>\n",
       "              (function () {\n",
       "                  var root = document.getElementById('6ff5ecc0-7744-4c52-9f20-07eca8db6339');\n",
       "                  var text = root.getElementsByClassName('pb-text')[0];\n",
       "                  var fill = root.getElementsByClassName('pb-fill')[0];\n",
       "\n",
       "                  text.innerHTML = 'Simulation finished in 0:00:01.';\n",
       "                  \n",
       "            if (100.0 > 0.) {\n",
       "                fill.style.transition = 'width 0.1s linear';\n",
       "            } else {\n",
       "                fill.style.transition = 'none';\n",
       "            }\n",
       "\n",
       "            fill.style.width = '100.0%';\n",
       "            fill.style.animation = 'none';\n",
       "            fill.style.backgroundImage = 'none'\n",
       "        \n",
       "                  \n",
       "                fill.style.animation = 'none';\n",
       "                fill.style.backgroundImage = 'none';\n",
       "            \n",
       "              })();\n",
       "        </script>"
      ]
     },
     "metadata": {},
     "output_type": "display_data"
    },
    {
     "data": {
      "image/png": "[encoded data removed]",
      "text/plain": [
       "<Figure size 432x288 with 1 Axes>"
      ]
     },
     "metadata": {
      "needs_background": "light"
     },
     "output_type": "display_data"
    }
   ],
   "source": [
    "\n",
    "import nengo\n",
    "import numpy as np\n",
    "from nengo.solvers import LstsqL2\n",
    "import nengo_spa as spa\n",
    "n_neurons = 4\n",
    "n2_neurons = 3\n",
    "import matplotlib.pyplot as plt\n",
    "%matplotlib inline\n",
    "from nengo.utils.ensemble import response_curves, tuning_curves\n",
    "file_name = 'Aug26_fig_1_supplement'\n",
    "synapse = 0.005\n",
    "import pickle\n",
    "from nengo.utils.matplotlib import rasterplot\n",
    "\n",
    "synapse = 0.005\n",
    "model = nengo.Network(seed = 9)\n",
    "with model:    \n",
    "    \n",
    "    \n",
    "    ens_A = nengo.Ensemble(n_neurons = n_neurons, dimensions = 1)\n",
    "    ens_B = nengo.Ensemble(n_neurons = n_neurons, dimensions = 1)\n",
    "    \n",
    "    ens_C = nengo.Ensemble(n_neurons = n2_neurons, dimensions = 1)\n",
    "    ens_D = nengo.Ensemble(n_neurons = n2_neurons, dimensions = 1)\n",
    "    \n",
    "    def fx_pt_two(t):\n",
    "        return 0.2\n",
    "    def fx_minus_pt_three(t):\n",
    "        return -0.3\n",
    "    def times_two(x):\n",
    "        return 2 * x\n",
    "    \n",
    "    input_A = nengo.Node(fx_pt_two)\n",
    "    input_B = nengo.Node(fx_minus_pt_three)\n",
    "    \n",
    "    conn_input_A_ens_A = nengo.Connection(input_A, ens_A,  synapse = synapse)\n",
    "    conn_input_B_ens_B = nengo.Connection(input_B, ens_B, synapse = synapse)\n",
    "    \n",
    "    \n",
    "    conn_A_C = nengo.Connection(ens_A, ens_C, function = times_two, synapse = synapse)\n",
    "    conn_B_D = nengo.Connection(ens_B, ens_D, function  = times_two, synapse = synapse)\n",
    "    \n",
    "    p_ens_A_spikes = nengo.Probe(ens_A.neurons)\n",
    "    p_conn_input_ens_A_wts = nengo.Probe(conn_input_A_ens_A, 'weights', synapse = 0.01,sample_every = 0.01)\n",
    "    p_conn_A_C_wts = nengo.Probe(conn_A_C, 'weights', synapse = 0.01,sample_every = 0.01)\n",
    "    p_ens_C_spikes = nengo.Probe(ens_C.neurons)\n",
    "    \n",
    "    p_input_A = nengo.Probe(input_A, synapse = 0.01) \n",
    "    p_ens_A = nengo.Probe(ens_A, synapse = 0.01)\n",
    "    p_ens_C = nengo.Probe(ens_C, synapse = 0.01)\n",
    "    \n",
    "    \n",
    "    p_ens_B_spikes = nengo.Probe(ens_B.neurons)\n",
    "    p_conn_input_ens_B_wts = nengo.Probe(conn_input_B_ens_B, 'weights', synapse = 0.01,sample_every = 0.01)\n",
    "    p_conn_B_D_wts = nengo.Probe(conn_B_D, 'weights', synapse = 0.01,sample_every = 0.01)\n",
    "    p_ens_D_spikes = nengo.Probe(ens_C.neurons)\n",
    "    \n",
    "    p_input_B = nengo.Probe(input_B, synapse = 0.01) \n",
    "    p_ens_B = nengo.Probe(ens_B, synapse = 0.01)\n",
    "    p_ens_D = nengo.Probe(ens_D, synapse = 0.01)\n",
    "\n",
    "    with nengo.Simulator(model) as sim:\n",
    "        \n",
    "        sim.run(1)\n",
    "       \n",
    "\n",
    "\n",
    "pickle.dump(sim.data[p_ens_A], open(\"S3_ens_A_S18\", \"wb\"))\n",
    "pickle.dump(sim.data[p_ens_B], open(\"S3_ens_B_S18\", \"wb\"))\n",
    "plt.figure()\n",
    "plt.plot(sim.trange(), sim.data[p_ens_A], label = 'Decoded value of ens_A')\n",
    "plt.plot(sim.trange(), sim.data[p_ens_B], label = 'Decoded value of ens_B')\n",
    "plt.title(\"Figure S3\")\n",
    "\n",
    "plt.legend(['ens_A decoded output', 'ens_B decoded output'])\n",
    "ymin, ymax = -1, 1\n",
    "plt.ylim(ymin, ymax)\n",
    "plt.savefig(\"Figure S3. Decoded output of ensembles\" + '.png')\n",
    "\n",
    "        "
   ]
  },
  {
   "cell_type": "code",
   "execution_count": null,
   "metadata": {},
   "outputs": [],
   "source": []
  },
  {
   "cell_type": "code",
   "execution_count": null,
   "metadata": {},
   "outputs": [],
   "source": []
  },
  {
   "cell_type": "code",
   "execution_count": null,
   "metadata": {},
   "outputs": [],
   "source": []
  },
  {
   "cell_type": "code",
   "execution_count": null,
   "metadata": {},
   "outputs": [],
   "source": []
  },
  {
   "cell_type": "code",
   "execution_count": null,
   "metadata": {},
   "outputs": [],
   "source": []
  }
 ],
 "metadata": {
  "kernelspec": {
   "display_name": "Python 3",
   "language": "python",
   "name": "python3"
  },
  "language_info": {
   "codemirror_mode": {
    "name": "ipython",
    "version": 3
   },
   "file_extension": ".py",
   "mimetype": "text/x-python",
   "name": "python",
   "nbconvert_exporter": "python",
   "pygments_lexer": "ipython3",
   "version": "3.7.4"
  }
 },
 "nbformat": 4,
 "nbformat_minor": 2
}
