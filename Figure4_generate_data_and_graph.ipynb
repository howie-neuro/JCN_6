{
 "cells": [
  {
   "cell_type": "code",
   "execution_count": 1,
   "metadata": {},
   "outputs": [
    {
     "data": {
      "application/vdom.v1+json": {
       "attributes": {},
       "tagName": "div"
      },
      "text/html": [
       "\n",
       "                <script>\n",
       "                    if (Jupyter.version.split(\".\")[0] < 5) {\n",
       "                        var pb = document.getElementById(\"4347729e-8141-4cbe-a03f-cce218df7ca9\");\n",
       "                        var text = document.createTextNode(\n",
       "                            \"HMTL progress bar requires Jupyter Notebook >= \" +\n",
       "                            \"5.0 or Jupyter Lab. Alternatively, you can use \" +\n",
       "                            \"TerminalProgressBar().\");\n",
       "                        pb.parentNode.insertBefore(text, pb);\n",
       "                    }\n",
       "                </script>\n",
       "                <div id=\"4347729e-8141-4cbe-a03f-cce218df7ca9\" style=\"\n",
       "                    width: 100%;\n",
       "                    border: 1px solid #cfcfcf;\n",
       "                    border-radius: 4px;\n",
       "                    text-align: center;\n",
       "                    position: relative;\">\n",
       "                  <div class=\"pb-text\" style=\"\n",
       "                      position: absolute;\n",
       "                      width: 100%;\">\n",
       "                    0%\n",
       "                  </div>\n",
       "                  <div class=\"pb-fill\" style=\"\n",
       "                      background-color: #bdd2e6;\n",
       "                      width: 0%;\">\n",
       "                    <style type=\"text/css\" scoped=\"scoped\">\n",
       "                        @keyframes pb-fill-anim {\n",
       "                            0% { background-position: 0 0; }\n",
       "                            100% { background-position: 100px 0; }\n",
       "                        }\n",
       "                    </style>\n",
       "                    &nbsp;\n",
       "                  </div>\n",
       "                </div>"
      ],
      "text/plain": [
       "HtmlProgressBar cannot be displayed. Please use the TerminalProgressBar. It can be enabled with `nengo.rc.set('progress', 'progress_bar', 'nengo.utils.progress.TerminalProgressBar')`."
      ]
     },
     "metadata": {},
     "output_type": "display_data"
    },
    {
     "data": {
      "application/vdom.v1+json": {
       "attributes": {
        "id": "4700c575-5d86-48a4-8925-9355b73baa19",
        "style": {
         "border": "1px solid #cfcfcf",
         "borderRadius": "4px",
         "boxSizing": "border-box",
         "position": "relative",
         "textAlign": "center",
         "width": "100%"
        }
       },
       "children": [
        {
         "attributes": {
          "class": "pb-text",
          "style": {
           "position": "absolute",
           "width": "100%"
          }
         },
         "children": [
          "Build finished in 0:00:20."
         ],
         "tagName": "div"
        },
        {
         "attributes": {
          "class": "pb-fill",
          "style": {
           "animation": "none",
           "backgroundColor": "#bdd2e6",
           "backgroundImage": "none",
           "backgroundSize": "100px 100%",
           "width": "100%"
          }
         },
         "children": [
          {
           "attributes": {
            "scoped": "scoped",
            "type": "text/css"
           },
           "children": [
            "\n                        @keyframes pb-fill-anim {\n                            0% { background-position: 0 0; }\n                            100% { background-position: 100px 0; }\n                        }}"
           ],
           "tagName": "style"
          },
          " "
         ],
         "tagName": "div"
        }
       ],
       "tagName": "div"
      },
      "text/html": [
       "<script>\n",
       "              (function () {\n",
       "                  var root = document.getElementById('4347729e-8141-4cbe-a03f-cce218df7ca9');\n",
       "                  var text = root.getElementsByClassName('pb-text')[0];\n",
       "                  var fill = root.getElementsByClassName('pb-fill')[0];\n",
       "\n",
       "                  text.innerHTML = 'Build finished in 0:00:20.';\n",
       "                  \n",
       "            fill.style.width = '100%';\n",
       "            fill.style.animation = 'pb-fill-anim 2s linear infinite';\n",
       "            fill.style.backgroundSize = '100px 100%';\n",
       "            fill.style.backgroundImage = 'repeating-linear-gradient(' +\n",
       "                '90deg, #bdd2e6, #edf2f8 40%, #bdd2e6 80%, #bdd2e6)';\n",
       "        \n",
       "                  \n",
       "                fill.style.animation = 'none';\n",
       "                fill.style.backgroundImage = 'none';\n",
       "            \n",
       "              })();\n",
       "        </script>"
      ]
     },
     "metadata": {},
     "output_type": "display_data"
    },
    {
     "data": {
      "application/vdom.v1+json": {
       "attributes": {},
       "tagName": "div"
      },
      "text/html": [
       "\n",
       "                <script>\n",
       "                    if (Jupyter.version.split(\".\")[0] < 5) {\n",
       "                        var pb = document.getElementById(\"12488cd7-f8a5-46ef-ab2d-828db3e4272d\");\n",
       "                        var text = document.createTextNode(\n",
       "                            \"HMTL progress bar requires Jupyter Notebook >= \" +\n",
       "                            \"5.0 or Jupyter Lab. Alternatively, you can use \" +\n",
       "                            \"TerminalProgressBar().\");\n",
       "                        pb.parentNode.insertBefore(text, pb);\n",
       "                    }\n",
       "                </script>\n",
       "                <div id=\"12488cd7-f8a5-46ef-ab2d-828db3e4272d\" style=\"\n",
       "                    width: 100%;\n",
       "                    border: 1px solid #cfcfcf;\n",
       "                    border-radius: 4px;\n",
       "                    text-align: center;\n",
       "                    position: relative;\">\n",
       "                  <div class=\"pb-text\" style=\"\n",
       "                      position: absolute;\n",
       "                      width: 100%;\">\n",
       "                    0%\n",
       "                  </div>\n",
       "                  <div class=\"pb-fill\" style=\"\n",
       "                      background-color: #bdd2e6;\n",
       "                      width: 0%;\">\n",
       "                    <style type=\"text/css\" scoped=\"scoped\">\n",
       "                        @keyframes pb-fill-anim {\n",
       "                            0% { background-position: 0 0; }\n",
       "                            100% { background-position: 100px 0; }\n",
       "                        }\n",
       "                    </style>\n",
       "                    &nbsp;\n",
       "                  </div>\n",
       "                </div>"
      ],
      "text/plain": [
       "HtmlProgressBar cannot be displayed. Please use the TerminalProgressBar. It can be enabled with `nengo.rc.set('progress', 'progress_bar', 'nengo.utils.progress.TerminalProgressBar')`."
      ]
     },
     "metadata": {},
     "output_type": "display_data"
    },
    {
     "data": {
      "application/vdom.v1+json": {
       "attributes": {
        "id": "7d7f3aad-d87a-49c3-b38f-0a4650cb97af",
        "style": {
         "border": "1px solid #cfcfcf",
         "borderRadius": "4px",
         "boxSizing": "border-box",
         "position": "relative",
         "textAlign": "center",
         "width": "100%"
        }
       },
       "children": [
        {
         "attributes": {
          "class": "pb-text",
          "style": {
           "position": "absolute",
           "width": "100%"
          }
         },
         "children": [
          "Simulation finished in 0:00:29."
         ],
         "tagName": "div"
        },
        {
         "attributes": {
          "class": "pb-fill",
          "style": {
           "animation": "none",
           "backgroundColor": "#bdd2e6",
           "backgroundImage": "none",
           "transition": "width 0.1s linear",
           "width": "100%"
          }
         },
         "children": [
          {
           "attributes": {
            "scoped": "scoped",
            "type": "text/css"
           },
           "children": [
            "\n                        @keyframes pb-fill-anim {\n                            0% { background-position: 0 0; }\n                            100% { background-position: 100px 0; }\n                        }}"
           ],
           "tagName": "style"
          },
          " "
         ],
         "tagName": "div"
        }
       ],
       "tagName": "div"
      },
      "text/html": [
       "<script>\n",
       "              (function () {\n",
       "                  var root = document.getElementById('12488cd7-f8a5-46ef-ab2d-828db3e4272d');\n",
       "                  var text = root.getElementsByClassName('pb-text')[0];\n",
       "                  var fill = root.getElementsByClassName('pb-fill')[0];\n",
       "\n",
       "                  text.innerHTML = 'Simulation finished in 0:00:29.';\n",
       "                  \n",
       "            if (100.0 > 0.) {\n",
       "                fill.style.transition = 'width 0.1s linear';\n",
       "            } else {\n",
       "                fill.style.transition = 'none';\n",
       "            }\n",
       "\n",
       "            fill.style.width = '100.0%';\n",
       "            fill.style.animation = 'none';\n",
       "            fill.style.backgroundImage = 'none'\n",
       "        \n",
       "                  \n",
       "                fill.style.animation = 'none';\n",
       "                fill.style.backgroundImage = 'none';\n",
       "            \n",
       "              })();\n",
       "        </script>"
      ]
     },
     "metadata": {},
     "output_type": "display_data"
    },
    {
     "data": {
      "application/vdom.v1+json": {
       "attributes": {},
       "tagName": "div"
      },
      "text/html": [
       "\n",
       "                <script>\n",
       "                    if (Jupyter.version.split(\".\")[0] < 5) {\n",
       "                        var pb = document.getElementById(\"479a16d9-9063-429f-b504-6f194228f991\");\n",
       "                        var text = document.createTextNode(\n",
       "                            \"HMTL progress bar requires Jupyter Notebook >= \" +\n",
       "                            \"5.0 or Jupyter Lab. Alternatively, you can use \" +\n",
       "                            \"TerminalProgressBar().\");\n",
       "                        pb.parentNode.insertBefore(text, pb);\n",
       "                    }\n",
       "                </script>\n",
       "                <div id=\"479a16d9-9063-429f-b504-6f194228f991\" style=\"\n",
       "                    width: 100%;\n",
       "                    border: 1px solid #cfcfcf;\n",
       "                    border-radius: 4px;\n",
       "                    text-align: center;\n",
       "                    position: relative;\">\n",
       "                  <div class=\"pb-text\" style=\"\n",
       "                      position: absolute;\n",
       "                      width: 100%;\">\n",
       "                    0%\n",
       "                  </div>\n",
       "                  <div class=\"pb-fill\" style=\"\n",
       "                      background-color: #bdd2e6;\n",
       "                      width: 0%;\">\n",
       "                    <style type=\"text/css\" scoped=\"scoped\">\n",
       "                        @keyframes pb-fill-anim {\n",
       "                            0% { background-position: 0 0; }\n",
       "                            100% { background-position: 100px 0; }\n",
       "                        }\n",
       "                    </style>\n",
       "                    &nbsp;\n",
       "                  </div>\n",
       "                </div>"
      ],
      "text/plain": [
       "HtmlProgressBar cannot be displayed. Please use the TerminalProgressBar. It can be enabled with `nengo.rc.set('progress', 'progress_bar', 'nengo.utils.progress.TerminalProgressBar')`."
      ]
     },
     "metadata": {},
     "output_type": "display_data"
    },
    {
     "data": {
      "application/vdom.v1+json": {
       "attributes": {
        "id": "3848c66c-9a5a-4955-8d96-e53f85330981",
        "style": {
         "border": "1px solid #cfcfcf",
         "borderRadius": "4px",
         "boxSizing": "border-box",
         "position": "relative",
         "textAlign": "center",
         "width": "100%"
        }
       },
       "children": [
        {
         "attributes": {
          "class": "pb-text",
          "style": {
           "position": "absolute",
           "width": "100%"
          }
         },
         "children": [
          "Build finished in 0:00:30."
         ],
         "tagName": "div"
        },
        {
         "attributes": {
          "class": "pb-fill",
          "style": {
           "animation": "none",
           "backgroundColor": "#bdd2e6",
           "backgroundImage": "none",
           "backgroundSize": "100px 100%",
           "width": "100%"
          }
         },
         "children": [
          {
           "attributes": {
            "scoped": "scoped",
            "type": "text/css"
           },
           "children": [
            "\n                        @keyframes pb-fill-anim {\n                            0% { background-position: 0 0; }\n                            100% { background-position: 100px 0; }\n                        }}"
           ],
           "tagName": "style"
          },
          " "
         ],
         "tagName": "div"
        }
       ],
       "tagName": "div"
      },
      "text/html": [
       "<script>\n",
       "              (function () {\n",
       "                  var root = document.getElementById('479a16d9-9063-429f-b504-6f194228f991');\n",
       "                  var text = root.getElementsByClassName('pb-text')[0];\n",
       "                  var fill = root.getElementsByClassName('pb-fill')[0];\n",
       "\n",
       "                  text.innerHTML = 'Build finished in 0:00:30.';\n",
       "                  \n",
       "            fill.style.width = '100%';\n",
       "            fill.style.animation = 'pb-fill-anim 2s linear infinite';\n",
       "            fill.style.backgroundSize = '100px 100%';\n",
       "            fill.style.backgroundImage = 'repeating-linear-gradient(' +\n",
       "                '90deg, #bdd2e6, #edf2f8 40%, #bdd2e6 80%, #bdd2e6)';\n",
       "        \n",
       "                  \n",
       "                fill.style.animation = 'none';\n",
       "                fill.style.backgroundImage = 'none';\n",
       "            \n",
       "              })();\n",
       "        </script>"
      ]
     },
     "metadata": {},
     "output_type": "display_data"
    },
    {
     "data": {
      "application/vdom.v1+json": {
       "attributes": {},
       "tagName": "div"
      },
      "text/html": [
       "\n",
       "                <script>\n",
       "                    if (Jupyter.version.split(\".\")[0] < 5) {\n",
       "                        var pb = document.getElementById(\"17778df8-5503-41e0-9578-e5880bbe3a01\");\n",
       "                        var text = document.createTextNode(\n",
       "                            \"HMTL progress bar requires Jupyter Notebook >= \" +\n",
       "                            \"5.0 or Jupyter Lab. Alternatively, you can use \" +\n",
       "                            \"TerminalProgressBar().\");\n",
       "                        pb.parentNode.insertBefore(text, pb);\n",
       "                    }\n",
       "                </script>\n",
       "                <div id=\"17778df8-5503-41e0-9578-e5880bbe3a01\" style=\"\n",
       "                    width: 100%;\n",
       "                    border: 1px solid #cfcfcf;\n",
       "                    border-radius: 4px;\n",
       "                    text-align: center;\n",
       "                    position: relative;\">\n",
       "                  <div class=\"pb-text\" style=\"\n",
       "                      position: absolute;\n",
       "                      width: 100%;\">\n",
       "                    0%\n",
       "                  </div>\n",
       "                  <div class=\"pb-fill\" style=\"\n",
       "                      background-color: #bdd2e6;\n",
       "                      width: 0%;\">\n",
       "                    <style type=\"text/css\" scoped=\"scoped\">\n",
       "                        @keyframes pb-fill-anim {\n",
       "                            0% { background-position: 0 0; }\n",
       "                            100% { background-position: 100px 0; }\n",
       "                        }\n",
       "                    </style>\n",
       "                    &nbsp;\n",
       "                  </div>\n",
       "                </div>"
      ],
      "text/plain": [
       "HtmlProgressBar cannot be displayed. Please use the TerminalProgressBar. It can be enabled with `nengo.rc.set('progress', 'progress_bar', 'nengo.utils.progress.TerminalProgressBar')`."
      ]
     },
     "metadata": {},
     "output_type": "display_data"
    },
    {
     "data": {
      "application/vdom.v1+json": {
       "attributes": {
        "id": "a6456c45-65ae-4ec4-a111-e685427c1d0d",
        "style": {
         "border": "1px solid #cfcfcf",
         "borderRadius": "4px",
         "boxSizing": "border-box",
         "position": "relative",
         "textAlign": "center",
         "width": "100%"
        }
       },
       "children": [
        {
         "attributes": {
          "class": "pb-text",
          "style": {
           "position": "absolute",
           "width": "100%"
          }
         },
         "children": [
          "Simulation finished in 0:01:06."
         ],
         "tagName": "div"
        },
        {
         "attributes": {
          "class": "pb-fill",
          "style": {
           "animation": "none",
           "backgroundColor": "#bdd2e6",
           "backgroundImage": "none",
           "transition": "width 0.1s linear",
           "width": "100%"
          }
         },
         "children": [
          {
           "attributes": {
            "scoped": "scoped",
            "type": "text/css"
           },
           "children": [
            "\n                        @keyframes pb-fill-anim {\n                            0% { background-position: 0 0; }\n                            100% { background-position: 100px 0; }\n                        }}"
           ],
           "tagName": "style"
          },
          " "
         ],
         "tagName": "div"
        }
       ],
       "tagName": "div"
      },
      "text/html": [
       "<script>\n",
       "              (function () {\n",
       "                  var root = document.getElementById('17778df8-5503-41e0-9578-e5880bbe3a01');\n",
       "                  var text = root.getElementsByClassName('pb-text')[0];\n",
       "                  var fill = root.getElementsByClassName('pb-fill')[0];\n",
       "\n",
       "                  text.innerHTML = 'Simulation finished in 0:01:06.';\n",
       "                  \n",
       "            if (100.0 > 0.) {\n",
       "                fill.style.transition = 'width 0.1s linear';\n",
       "            } else {\n",
       "                fill.style.transition = 'none';\n",
       "            }\n",
       "\n",
       "            fill.style.width = '100.0%';\n",
       "            fill.style.animation = 'none';\n",
       "            fill.style.backgroundImage = 'none'\n",
       "        \n",
       "                  \n",
       "                fill.style.animation = 'none';\n",
       "                fill.style.backgroundImage = 'none';\n",
       "            \n",
       "              })();\n",
       "        </script>"
      ]
     },
     "metadata": {},
     "output_type": "display_data"
    },
    {
     "data": {
      "application/vdom.v1+json": {
       "attributes": {},
       "tagName": "div"
      },
      "text/html": [
       "\n",
       "                <script>\n",
       "                    if (Jupyter.version.split(\".\")[0] < 5) {\n",
       "                        var pb = document.getElementById(\"7a1ec714-b2e5-459a-8e4e-c858a7e7b7c4\");\n",
       "                        var text = document.createTextNode(\n",
       "                            \"HMTL progress bar requires Jupyter Notebook >= \" +\n",
       "                            \"5.0 or Jupyter Lab. Alternatively, you can use \" +\n",
       "                            \"TerminalProgressBar().\");\n",
       "                        pb.parentNode.insertBefore(text, pb);\n",
       "                    }\n",
       "                </script>\n",
       "                <div id=\"7a1ec714-b2e5-459a-8e4e-c858a7e7b7c4\" style=\"\n",
       "                    width: 100%;\n",
       "                    border: 1px solid #cfcfcf;\n",
       "                    border-radius: 4px;\n",
       "                    text-align: center;\n",
       "                    position: relative;\">\n",
       "                  <div class=\"pb-text\" style=\"\n",
       "                      position: absolute;\n",
       "                      width: 100%;\">\n",
       "                    0%\n",
       "                  </div>\n",
       "                  <div class=\"pb-fill\" style=\"\n",
       "                      background-color: #bdd2e6;\n",
       "                      width: 0%;\">\n",
       "                    <style type=\"text/css\" scoped=\"scoped\">\n",
       "                        @keyframes pb-fill-anim {\n",
       "                            0% { background-position: 0 0; }\n",
       "                            100% { background-position: 100px 0; }\n",
       "                        }\n",
       "                    </style>\n",
       "                    &nbsp;\n",
       "                  </div>\n",
       "                </div>"
      ],
      "text/plain": [
       "HtmlProgressBar cannot be displayed. Please use the TerminalProgressBar. It can be enabled with `nengo.rc.set('progress', 'progress_bar', 'nengo.utils.progress.TerminalProgressBar')`."
      ]
     },
     "metadata": {},
     "output_type": "display_data"
    },
    {
     "data": {
      "application/vdom.v1+json": {
       "attributes": {
        "id": "b4140445-4e1b-43f2-843e-c44bce6675a1",
        "style": {
         "border": "1px solid #cfcfcf",
         "borderRadius": "4px",
         "boxSizing": "border-box",
         "position": "relative",
         "textAlign": "center",
         "width": "100%"
        }
       },
       "children": [
        {
         "attributes": {
          "class": "pb-text",
          "style": {
           "position": "absolute",
           "width": "100%"
          }
         },
         "children": [
          "Build finished in 0:00:53."
         ],
         "tagName": "div"
        },
        {
         "attributes": {
          "class": "pb-fill",
          "style": {
           "animation": "none",
           "backgroundColor": "#bdd2e6",
           "backgroundImage": "none",
           "backgroundSize": "100px 100%",
           "width": "100%"
          }
         },
         "children": [
          {
           "attributes": {
            "scoped": "scoped",
            "type": "text/css"
           },
           "children": [
            "\n                        @keyframes pb-fill-anim {\n                            0% { background-position: 0 0; }\n                            100% { background-position: 100px 0; }\n                        }}"
           ],
           "tagName": "style"
          },
          " "
         ],
         "tagName": "div"
        }
       ],
       "tagName": "div"
      },
      "text/html": [
       "<script>\n",
       "              (function () {\n",
       "                  var root = document.getElementById('7a1ec714-b2e5-459a-8e4e-c858a7e7b7c4');\n",
       "                  var text = root.getElementsByClassName('pb-text')[0];\n",
       "                  var fill = root.getElementsByClassName('pb-fill')[0];\n",
       "\n",
       "                  text.innerHTML = 'Build finished in 0:00:53.';\n",
       "                  \n",
       "            fill.style.width = '100%';\n",
       "            fill.style.animation = 'pb-fill-anim 2s linear infinite';\n",
       "            fill.style.backgroundSize = '100px 100%';\n",
       "            fill.style.backgroundImage = 'repeating-linear-gradient(' +\n",
       "                '90deg, #bdd2e6, #edf2f8 40%, #bdd2e6 80%, #bdd2e6)';\n",
       "        \n",
       "                  \n",
       "                fill.style.animation = 'none';\n",
       "                fill.style.backgroundImage = 'none';\n",
       "            \n",
       "              })();\n",
       "        </script>"
      ]
     },
     "metadata": {},
     "output_type": "display_data"
    },
    {
     "data": {
      "application/vdom.v1+json": {
       "attributes": {},
       "tagName": "div"
      },
      "text/html": [
       "\n",
       "                <script>\n",
       "                    if (Jupyter.version.split(\".\")[0] < 5) {\n",
       "                        var pb = document.getElementById(\"eb4fcbe6-5f45-47e3-8a17-5804c559066f\");\n",
       "                        var text = document.createTextNode(\n",
       "                            \"HMTL progress bar requires Jupyter Notebook >= \" +\n",
       "                            \"5.0 or Jupyter Lab. Alternatively, you can use \" +\n",
       "                            \"TerminalProgressBar().\");\n",
       "                        pb.parentNode.insertBefore(text, pb);\n",
       "                    }\n",
       "                </script>\n",
       "                <div id=\"eb4fcbe6-5f45-47e3-8a17-5804c559066f\" style=\"\n",
       "                    width: 100%;\n",
       "                    border: 1px solid #cfcfcf;\n",
       "                    border-radius: 4px;\n",
       "                    text-align: center;\n",
       "                    position: relative;\">\n",
       "                  <div class=\"pb-text\" style=\"\n",
       "                      position: absolute;\n",
       "                      width: 100%;\">\n",
       "                    0%\n",
       "                  </div>\n",
       "                  <div class=\"pb-fill\" style=\"\n",
       "                      background-color: #bdd2e6;\n",
       "                      width: 0%;\">\n",
       "                    <style type=\"text/css\" scoped=\"scoped\">\n",
       "                        @keyframes pb-fill-anim {\n",
       "                            0% { background-position: 0 0; }\n",
       "                            100% { background-position: 100px 0; }\n",
       "                        }\n",
       "                    </style>\n",
       "                    &nbsp;\n",
       "                  </div>\n",
       "                </div>"
      ],
      "text/plain": [
       "HtmlProgressBar cannot be displayed. Please use the TerminalProgressBar. It can be enabled with `nengo.rc.set('progress', 'progress_bar', 'nengo.utils.progress.TerminalProgressBar')`."
      ]
     },
     "metadata": {},
     "output_type": "display_data"
    },
    {
     "data": {
      "application/vdom.v1+json": {
       "attributes": {
        "id": "dac8d3be-3784-4189-9598-09efad548371",
        "style": {
         "border": "1px solid #cfcfcf",
         "borderRadius": "4px",
         "boxSizing": "border-box",
         "position": "relative",
         "textAlign": "center",
         "width": "100%"
        }
       },
       "children": [
        {
         "attributes": {
          "class": "pb-text",
          "style": {
           "position": "absolute",
           "width": "100%"
          }
         },
         "children": [
          "Simulation finished in 0:01:58."
         ],
         "tagName": "div"
        },
        {
         "attributes": {
          "class": "pb-fill",
          "style": {
           "animation": "none",
           "backgroundColor": "#bdd2e6",
           "backgroundImage": "none",
           "transition": "width 0.1s linear",
           "width": "100%"
          }
         },
         "children": [
          {
           "attributes": {
            "scoped": "scoped",
            "type": "text/css"
           },
           "children": [
            "\n                        @keyframes pb-fill-anim {\n                            0% { background-position: 0 0; }\n                            100% { background-position: 100px 0; }\n                        }}"
           ],
           "tagName": "style"
          },
          " "
         ],
         "tagName": "div"
        }
       ],
       "tagName": "div"
      },
      "text/html": [
       "<script>\n",
       "              (function () {\n",
       "                  var root = document.getElementById('eb4fcbe6-5f45-47e3-8a17-5804c559066f');\n",
       "                  var text = root.getElementsByClassName('pb-text')[0];\n",
       "                  var fill = root.getElementsByClassName('pb-fill')[0];\n",
       "\n",
       "                  text.innerHTML = 'Simulation finished in 0:01:58.';\n",
       "                  \n",
       "            if (100.0 > 0.) {\n",
       "                fill.style.transition = 'width 0.1s linear';\n",
       "            } else {\n",
       "                fill.style.transition = 'none';\n",
       "            }\n",
       "\n",
       "            fill.style.width = '100.0%';\n",
       "            fill.style.animation = 'none';\n",
       "            fill.style.backgroundImage = 'none'\n",
       "        \n",
       "                  \n",
       "                fill.style.animation = 'none';\n",
       "                fill.style.backgroundImage = 'none';\n",
       "            \n",
       "              })();\n",
       "        </script>"
      ]
     },
     "metadata": {},
     "output_type": "display_data"
    },
    {
     "data": {
      "image/png": "[encoded data removed]",
      "text/plain": [
       "<Figure size 432x288 with 1 Axes>"
      ]
     },
     "metadata": {
      "needs_background": "light"
     },
     "output_type": "display_data"
    },
    {
     "data": {
      "image/png": "[encoded data removed]",
      "text/plain": [
       "<Figure size 432x288 with 1 Axes>"
      ]
     },
     "metadata": {
      "needs_background": "light"
     },
     "output_type": "display_data"
    },
    {
     "data": {
      "image/png": "[encoded data removed]",
      "text/plain": [
       "<Figure size 432x288 with 1 Axes>"
      ]
     },
     "metadata": {
      "needs_background": "light"
     },
     "output_type": "display_data"
    }
   ],
   "source": [
    "import nengo\n",
    "import nengo_spa as spa\n",
    "import matplotlib.pyplot as plt\n",
    "%matplotlib inline\n",
    "# with and without seed\n",
    "import numpy as np\n",
    "import random\n",
    "import pickle\n",
    "\n",
    "d = 128  # the dimensionality of the vectors\n",
    "# note dimension\n",
    "SDT_variable = 1\n",
    "proportion_ablate = 0.0\n",
    "noise_std = 0.005\n",
    "time_interval = 1.0\n",
    "wait =  0.0\n",
    "feedback_synapse = 0.1\n",
    "\n",
    "with spa.Network(seed = 1) as model:\n",
    "        \n",
    "        fb2 = 0.2\n",
    "        fb5 = 0.5\n",
    "        fb10 = 1.0\n",
    "        feedback = [fb2, fb5, fb10]\n",
    "        numbers = [0,1,2]\n",
    "        new_red = [0,1,2]\n",
    "        new_blue = [0,1,2]\n",
    "        new_green = [0,1,2]\n",
    "        new_sim_blue_probe = [0,1,2]\n",
    "        new_sim_red_probe = [0,1,2]\n",
    "        new_sim_green_probe = [0,1,2]\n",
    "        new_numbers = np.array([[0,1,2],[3,4,5]])\n",
    "        feedback = [numbers[0] + 0.2, numbers[1] -0.5, numbers[2] -1.05]\n",
    "        #numbers_array = np.zeros((1500,3,3))\n",
    " \n",
    "        \n",
    "        for x in numbers:\n",
    "            \n",
    "            noise = nengo.Node(nengo.processes.WhiteNoise(nengo.dists.Gaussian (0,noise_std)), size_out = d)\n",
    "            timer = time_interval + wait\n",
    "            vocab = spa.Vocabulary(d)\n",
    "            vocab.populate('BLUE; RED; GREEN')\n",
    "            GREEN = vocab.parse('GREEN')\n",
    "            RED = vocab.parse('RED')\n",
    "            BLUE = vocab.parse('BLUE')\n",
    "            \n",
    "        #make it feedback[0] as loop is out\n",
    "            Color = spa.State(vocab, feedback = feedback[x], represent_cc_identity = False)\n",
    "        \n",
    "            nengo.Connection(noise,Color.input, synapse = 0.01)\n",
    "        \n",
    "        \n",
    "            def input(t):\n",
    "                if t < time_interval:\n",
    "                    return BLUE\n",
    "                elif t < timer:\n",
    "                    return '0'\n",
    "                elif t < timer + time_interval:\n",
    "                    return RED\n",
    "                elif t < 2 * timer:\n",
    "                    return '0'\n",
    "                elif t < 2 * timer + time_interval:\n",
    "                    return GREEN\n",
    "                elif t < 3 * timer:\n",
    "                    return '0'\n",
    "                else:\n",
    "                    return '0'\n",
    "        \n",
    "            def red_input(t):\n",
    "                return RED\n",
    "        \n",
    "            def green_input(t):\n",
    "                return GREEN\n",
    "        \n",
    "            def blue_input(t):\n",
    "                return BLUE\n",
    "        \n",
    "            input_transcode = spa.Transcode(input, output_vocab = vocab)\n",
    "            input_transcode >> Color\n",
    "            Red = spa.State(vocab, feedback = feedback[x])\n",
    "            red_transcode = spa.Transcode(function = red_input, output_vocab = vocab)\n",
    "            red_transcode >> Red\n",
    "            probe_Color = nengo.Probe(Color.output, synapse = 0.01) \n",
    "            probe_Red = nengo.Probe(Red.output, synapse = 0.01) \n",
    "        \n",
    "            Green = spa.State(vocab, feedback = feedback[x])\n",
    "            green_transcode = spa.Transcode(function = green_input, output_vocab = vocab)\n",
    "            green_transcode >> Green\n",
    "            probe_Green = nengo.Probe(Green.output, synapse = 0.01)\n",
    "        \n",
    "            Blue = spa.State(vocab, feedback = feedback[x])\n",
    "            blue_transcode = spa.Transcode(function = blue_input, output_vocab = vocab)\n",
    "            blue_transcode >> Blue\n",
    "            probe_Blue = nengo.Probe(Blue.output, synapse = 0.01)\n",
    "            new_sim_red = spa.Compare(vocab, neurons_per_dimension = 50)\n",
    "            new_sim_green = spa.Compare(vocab, neurons_per_dimension = 50)\n",
    "            new_sim_blue = spa.Compare(vocab, neurons_per_dimension = 50)\n",
    "            \n",
    "            nengo.Connection(Red.output, new_sim_red.input_a, synapse = 0.001)\n",
    "            nengo.Connection(Color.output, new_sim_red.input_b, synapse = 0.001)\n",
    "        \n",
    "            nengo.Connection(Green.output, new_sim_green.input_a, synapse = 0.001)\n",
    "            nengo.Connection(Color.output, new_sim_green.input_b, synapse = 0.001)\n",
    "        \n",
    "            nengo.Connection(Blue.output, new_sim_blue.input_a, synapse = 0.001)\n",
    "            nengo.Connection(Color.output, new_sim_blue.input_b, synapse = 0.001)\n",
    "            \n",
    "            \n",
    "            \n",
    "            \n",
    "            new_sim_red_probe[x] = nengo.Probe(new_sim_red.output, synapse = 0.01)   \n",
    "            new_sim_green_probe[x] = nengo.Probe(new_sim_green.output, synapse = 0.01)   \n",
    "            new_sim_blue_probe[x] = nengo.Probe(new_sim_blue.output, synapse = 0.01)   \n",
    "        \n",
    "            def ablate_ensemble(ens, proportion_ablate, sim, bias=True):\n",
    "                n_neurons = min(int(ens.n_neurons * proportion_ablate), ens.n_neurons)\n",
    "                idx = np.random.choice(np.arange(ens.n_neurons), replace=False, size=n_neurons)\n",
    "                encoder_sig = sim.signals[sim.model.sig[ens]['encoders']]\n",
    "                encoder_sig.setflags(write=True)\n",
    "                encoder_sig[idx] = 0.0\n",
    "                encoder_sig.setflags(write=False)\n",
    "                if bias:\n",
    "\n",
    "                    bias_sig = sim.signals[sim.model.sig[ens.neurons]['bias']]\n",
    "                    bias_sig.setflags(write=True)\n",
    "                    bias_sig[idx] = -1000\n",
    "\n",
    "\n",
    "\n",
    "        \n",
    "            with nengo.Simulator(model) as sim:  # Create the simulator\n",
    "                for j in range (0, int(d/16)):\n",
    "                    ens = Color.all_ensembles[j]\n",
    "                    ablate_ensemble(ens, proportion_ablate, sim )\n",
    "               \n",
    "                sim.run(timer * 4)  \n",
    "        \n",
    "                numbers[x]  = spa.similarity(sim.data[probe_Color], vocab, normalize = True)\n",
    "                \n",
    "                numbers_array_0 = np.asarray(numbers[0])   \n",
    "                numbers_array_1 = np.asarray(numbers[1])\n",
    "                numbers_array_2 = np.asarray(numbers[2]) \n",
    "        \n",
    "        #print(numbers_array[0])\n",
    "        pickle.dump(numbers_array_0, open(\"Numbers_0\", \"wb\"))\n",
    "        pickle.dump(numbers_array_1, open(\"Numbers_1\", \"wb\"))\n",
    "        pickle.dump(numbers_array_2, open(\"Numbers_2\", \"wb\"))\n",
    "        '''\n",
    "        plt.figure()\n",
    "        xmin, xmax = 0, 4\n",
    "        ymin, ymax = -0.5, 2.5\n",
    "        plt.plot(sim.trange(),numbers_array_0[:,0],'b-', label = 'blue fb = 0.2' )\n",
    "        plt.plot(sim.trange(),numbers_array_1[:,0],'b--',  label = 'blue fb = 0.5' )\n",
    "        plt.plot(sim.trange(),numbers_array_2[:,0],'b:', label = 'blue fb = 1.0'  )\n",
    "        plt.plot(sim.trange(),numbers_array_0[:,1],'r-', label =  'red fb = 0.2'  )\n",
    "        plt.plot(sim.trange(),numbers_array_1[:,1],'r--', label =  'red fb = 0.5'   )\n",
    "        plt.plot(sim.trange(),numbers_array_2[:,1],'r:', label =  'red fb = 1.0'   )\n",
    "        plt.plot(sim.trange(),numbers_array_0[:,2],'g-' )\n",
    "        plt.plot(sim.trange(),numbers_array_1[:,2],'g--' )\n",
    "        plt.plot(sim.trange(),numbers_array_2[:,2],'g:' )\n",
    "        L_bottom = [3.0, -0.3]\n",
    "        R_bottom = [3.5, -0.3]\n",
    "        L_top = [3.0,1.1]\n",
    "        R_top = [3.5, 1.1]\n",
    "        x_bottom = [L_bottom[0], R_bottom[0]]\n",
    "        y_bottom = [L_bottom[1], R_bottom[1]]\n",
    "        x_left = [L_bottom[0], L_top[0]]\n",
    "        y_left = [L_bottom[1], L_top[1]]\n",
    "        x_right = [R_bottom[0], R_top[0]]\n",
    "        y_right = [R_bottom[1], R_top[1]]\n",
    "        x_top = [L_top[0], R_top[0]]\n",
    "        y_top = [L_top[1], R_top[1]]\n",
    "\n",
    "        plt.plot(x_bottom, y_bottom, color = \"black\")\n",
    "        plt.plot(x_left, y_left, color = \"black\")\n",
    "        plt.plot(x_right, y_right, color = \"black\")\n",
    "        plt.plot(x_top, y_top, color = \"black\")\n",
    "\n",
    "\n",
    "        L_bottom2 = [1.0, -0.3]\n",
    "        R_bottom2 = [1.15, -0.3]\n",
    "        L_top2 = [1.0,1.1]\n",
    "        R_top2 = [1.15, 1.1]\n",
    "        x_bottom2 = [L_bottom2[0], R_bottom2[0]]\n",
    "        y_bottom2 = [L_bottom2[1], R_bottom2[1]]\n",
    "        x_left2 = [L_bottom2[0], L_top2[0]]\n",
    "        y_left2 = [L_bottom2[1], L_top2[1]]\n",
    "        x_right2 = [R_bottom2[0], R_top2[0]]\n",
    "        y_right2 = [R_bottom2[1], R_top2[1]]\n",
    "        x_top2 = [L_top2[0], R_top2[0]]\n",
    "        y_top2 = [L_top2[1], R_top2[1]]\n",
    "\n",
    "        plt.plot(x_bottom2, y_bottom2, color = \"black\")\n",
    "        plt.plot(x_left2, y_left2, color = \"black\")\n",
    "        plt.plot(x_right2, y_right2, color = \"black\")\n",
    "        plt.plot(x_top2, y_top2, color = \"black\")\n",
    "\n",
    " \n",
    "        \n",
    "        plt.legend(['blue fb = 0.2' , 'blue fb = 0.5', 'blue fb = 1.0', 'red fb = 0.2', 'red fb = 0.5', 'red fb = 1.0'],  loc='best')\n",
    "       \n",
    "        \n",
    "        plt.title(\"Figure 4a \")\n",
    "        plt.xlabel(\"Time (s)\")\n",
    "        plt.ylabel(\"Vector representation\")\n",
    "        plt.ylim(ymin, ymax)\n",
    "        plt.xlim(xmin, xmax)\n",
    "        plt.savefig('Fig4a_Sept18'+ '.png')\n",
    "        \n",
    "        \n",
    "        plt.figure()\n",
    "        xmin, xmax = 2.9, 4\n",
    "        ymin, ymax = -0.5, 2.5\n",
    "        plt.plot(sim.trange(),numbers_array_0[:,0],'b-', label = 'blue fb = 0.2' )\n",
    "        plt.plot(sim.trange(),numbers_array_1[:,0],'b--',  label = 'blue fb = 0.5' )\n",
    "        plt.plot(sim.trange(),numbers_array_2[:,0],'b:', label = 'blue fb = 1.0'  )\n",
    "        plt.plot(sim.trange(),numbers_array_0[:,1],'r-', label =  'red fb = 0.2'  )\n",
    "        plt.plot(sim.trange(),numbers_array_1[:,1],'r--', label =  'red fb = 0.5'   )\n",
    "        plt.plot(sim.trange(),numbers_array_2[:,1],'r:', label =  'red fb = 1.0'   )\n",
    "        plt.plot(sim.trange(),numbers_array_0[:,2],'g-' )\n",
    "        plt.plot(sim.trange(),numbers_array_1[:,2],'g--' )\n",
    "        plt.plot(sim.trange(),numbers_array_2[:,2],'g:' )\n",
    "       \n",
    "        \n",
    "        plt.legend(['blue fb = 0.2' , 'blue fb = 0.5', 'blue fb = 1.0', 'red fb = 0.2', 'red fb = 0.5', 'red fb = 1.0'],  loc='best')\n",
    "       \n",
    "        L_pt5 = [0.0, 0.5]\n",
    "        R_pt5 = [4, 0.5]\n",
    "        plt.plot(x_bottom2, y_bottom2, color = \"black\")\n",
    "        \n",
    "        bb=np.array([1])\n",
    "        plt.plot(bb * 3.1,bb * 0.5,marker=\"H\", fillstyle='none', markersize=20, linewidth=0)\n",
    "        plt.plot(bb * 3.4,bb * 0.5,marker=\"H\", fillstyle='none', markersize=20, linewidth=0)\n",
    "        #plt.plot(bb * 1.025,bb * 0.65,marker=\"H\", fillstyle='none', markersize=20, linewidth=0)\n",
    "        \n",
    "        \n",
    "        \n",
    "        plt.title(\"Figure 4b \")\n",
    "        plt.xlabel(\"Time (s)\")\n",
    "        plt.ylabel(\"Vector representation\")\n",
    "        plt.ylim(ymin, ymax)\n",
    "        plt.xlim(xmin, xmax)\n",
    "        plt.savefig('Fig4b_Sept18'+ '.png')\n",
    "        \n",
    "        \n",
    "        plt.figure()\n",
    "        xmin, xmax = 0.95, 1.15\n",
    "        ymin, ymax = -0.5, 2.5\n",
    "        plt.plot(sim.trange(),numbers_array_0[:,0],'b-', label = 'blue fb = 0.2' )\n",
    "        plt.plot(sim.trange(),numbers_array_1[:,0],'b--',  label = 'blue fb = 0.5' )\n",
    "        plt.plot(sim.trange(),numbers_array_2[:,0],'b:', label = 'blue fb = 1.0'  )\n",
    "        plt.plot(sim.trange(),numbers_array_0[:,1],'r-', label =  'red fb = 0.2'  )\n",
    "        plt.plot(sim.trange(),numbers_array_1[:,1],'r--', label =  'red fb = 0.5'   )\n",
    "        plt.plot(sim.trange(),numbers_array_2[:,1],'r:', label =  'red fb = 1.0'   )\n",
    "        plt.plot(sim.trange(),numbers_array_0[:,2],'g-' )\n",
    "        plt.plot(sim.trange(),numbers_array_1[:,2],'g--' )\n",
    "        plt.plot(sim.trange(),numbers_array_2[:,2],'g:' )\n",
    "       \n",
    "        \n",
    "        plt.legend(['blue fb = 0.2' , 'blue fb = 0.5', 'blue fb = 1.0', 'red fb = 0.2', 'red fb = 0.5', 'red fb = 1.0'],  loc='best')\n",
    "       \n",
    "        \n",
    "        plt.title(\"Figure 4c \")\n",
    "        plt.xlabel(\"Time (s)\")\n",
    "        plt.ylabel(\"Vector representation\")\n",
    "        plt.ylim(ymin, ymax)\n",
    "        plt.xlim(xmin, xmax)\n",
    "        \n",
    "        bb=np.array([1])\n",
    "        plt.plot(bb * 1.092,bb * 0.70,marker=\"H\", fillstyle='none', markersize=20, linewidth=0)\n",
    "        plt.plot(bb * 1.015,bb * 0.65,marker=\"H\", fillstyle='none', markersize=20, linewidth=0)\n",
    "        plt.plot(bb * 1.025,bb * 0.65,marker=\"H\", fillstyle='none', markersize=20, linewidth=0)\n",
    "        \n",
    "        \n",
    "        plt.savefig('Fig4c_Sept18'+ '.png')\n",
    "        '''\n"
   ]
  },
  {
   "cell_type": "code",
   "execution_count": null,
   "metadata": {},
   "outputs": [],
   "source": []
  },
  {
   "cell_type": "code",
   "execution_count": null,
   "metadata": {},
   "outputs": [],
   "source": []
  },
  {
   "cell_type": "code",
   "execution_count": null,
   "metadata": {},
   "outputs": [],
   "source": []
  },
  {
   "cell_type": "code",
   "execution_count": null,
   "metadata": {},
   "outputs": [],
   "source": []
  }
 ],
 "metadata": {
  "kernelspec": {
   "display_name": "Python 3",
   "language": "python",
   "name": "python3"
  },
  "language_info": {
   "codemirror_mode": {
    "name": "ipython",
    "version": 3
   },
   "file_extension": ".py",
   "mimetype": "text/x-python",
   "name": "python",
   "nbconvert_exporter": "python",
   "pygments_lexer": "ipython3",
   "version": "3.7.4"
  }
 },
 "nbformat": 4,
 "nbformat_minor": 2
}
