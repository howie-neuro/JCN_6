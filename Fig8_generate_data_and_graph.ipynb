{
 "cells": [
  {
   "cell_type": "code",
   "execution_count": 2,
   "metadata": {},
   "outputs": [
    {
     "data": {
      "application/vdom.v1+json": {
       "attributes": {},
       "tagName": "div"
      },
      "text/html": [
       "\n",
       "                <script>\n",
       "                    if (Jupyter.version.split(\".\")[0] < 5) {\n",
       "                        var pb = document.getElementById(\"b34552a1-205f-4876-8678-d6bb5276cf1e\");\n",
       "                        var text = document.createTextNode(\n",
       "                            \"HMTL progress bar requires Jupyter Notebook >= \" +\n",
       "                            \"5.0 or Jupyter Lab. Alternatively, you can use \" +\n",
       "                            \"TerminalProgressBar().\");\n",
       "                        pb.parentNode.insertBefore(text, pb);\n",
       "                    }\n",
       "                </script>\n",
       "                <div id=\"b34552a1-205f-4876-8678-d6bb5276cf1e\" style=\"\n",
       "                    width: 100%;\n",
       "                    border: 1px solid #cfcfcf;\n",
       "                    border-radius: 4px;\n",
       "                    text-align: center;\n",
       "                    position: relative;\">\n",
       "                  <div class=\"pb-text\" style=\"\n",
       "                      position: absolute;\n",
       "                      width: 100%;\">\n",
       "                    0%\n",
       "                  </div>\n",
       "                  <div class=\"pb-fill\" style=\"\n",
       "                      background-color: #bdd2e6;\n",
       "                      width: 0%;\">\n",
       "                    <style type=\"text/css\" scoped=\"scoped\">\n",
       "                        @keyframes pb-fill-anim {\n",
       "                            0% { background-position: 0 0; }\n",
       "                            100% { background-position: 100px 0; }\n",
       "                        }\n",
       "                    </style>\n",
       "                    &nbsp;\n",
       "                  </div>\n",
       "                </div>"
      ],
      "text/plain": [
       "HtmlProgressBar cannot be displayed. Please use the TerminalProgressBar. It can be enabled with `nengo.rc.set('progress', 'progress_bar', 'nengo.utils.progress.TerminalProgressBar')`."
      ]
     },
     "metadata": {},
     "output_type": "display_data"
    },
    {
     "data": {
      "application/vdom.v1+json": {
       "attributes": {
        "id": "d13997ab-7413-4603-bc2e-07314e659f9a",
        "style": {
         "border": "1px solid #cfcfcf",
         "borderRadius": "4px",
         "boxSizing": "border-box",
         "position": "relative",
         "textAlign": "center",
         "width": "100%"
        }
       },
       "children": [
        {
         "attributes": {
          "class": "pb-text",
          "style": {
           "position": "absolute",
           "width": "100%"
          }
         },
         "children": [
          "Build finished in 0:00:09."
         ],
         "tagName": "div"
        },
        {
         "attributes": {
          "class": "pb-fill",
          "style": {
           "animation": "none",
           "backgroundColor": "#bdd2e6",
           "backgroundImage": "none",
           "backgroundSize": "100px 100%",
           "width": "100%"
          }
         },
         "children": [
          {
           "attributes": {
            "scoped": "scoped",
            "type": "text/css"
           },
           "children": [
            "\n                        @keyframes pb-fill-anim {\n                            0% { background-position: 0 0; }\n                            100% { background-position: 100px 0; }\n                        }}"
           ],
           "tagName": "style"
          },
          " "
         ],
         "tagName": "div"
        }
       ],
       "tagName": "div"
      },
      "text/html": [
       "<script>\n",
       "              (function () {\n",
       "                  var root = document.getElementById('b34552a1-205f-4876-8678-d6bb5276cf1e');\n",
       "                  var text = root.getElementsByClassName('pb-text')[0];\n",
       "                  var fill = root.getElementsByClassName('pb-fill')[0];\n",
       "\n",
       "                  text.innerHTML = 'Build finished in 0:00:09.';\n",
       "                  \n",
       "            fill.style.width = '100%';\n",
       "            fill.style.animation = 'pb-fill-anim 2s linear infinite';\n",
       "            fill.style.backgroundSize = '100px 100%';\n",
       "            fill.style.backgroundImage = 'repeating-linear-gradient(' +\n",
       "                '90deg, #bdd2e6, #edf2f8 40%, #bdd2e6 80%, #bdd2e6)';\n",
       "        \n",
       "                  \n",
       "                fill.style.animation = 'none';\n",
       "                fill.style.backgroundImage = 'none';\n",
       "            \n",
       "              })();\n",
       "        </script>"
      ]
     },
     "metadata": {},
     "output_type": "display_data"
    },
    {
     "data": {
      "application/vdom.v1+json": {
       "attributes": {},
       "tagName": "div"
      },
      "text/html": [
       "\n",
       "                <script>\n",
       "                    if (Jupyter.version.split(\".\")[0] < 5) {\n",
       "                        var pb = document.getElementById(\"f329aaaa-0db7-4bb4-8ff8-385551609af2\");\n",
       "                        var text = document.createTextNode(\n",
       "                            \"HMTL progress bar requires Jupyter Notebook >= \" +\n",
       "                            \"5.0 or Jupyter Lab. Alternatively, you can use \" +\n",
       "                            \"TerminalProgressBar().\");\n",
       "                        pb.parentNode.insertBefore(text, pb);\n",
       "                    }\n",
       "                </script>\n",
       "                <div id=\"f329aaaa-0db7-4bb4-8ff8-385551609af2\" style=\"\n",
       "                    width: 100%;\n",
       "                    border: 1px solid #cfcfcf;\n",
       "                    border-radius: 4px;\n",
       "                    text-align: center;\n",
       "                    position: relative;\">\n",
       "                  <div class=\"pb-text\" style=\"\n",
       "                      position: absolute;\n",
       "                      width: 100%;\">\n",
       "                    0%\n",
       "                  </div>\n",
       "                  <div class=\"pb-fill\" style=\"\n",
       "                      background-color: #bdd2e6;\n",
       "                      width: 0%;\">\n",
       "                    <style type=\"text/css\" scoped=\"scoped\">\n",
       "                        @keyframes pb-fill-anim {\n",
       "                            0% { background-position: 0 0; }\n",
       "                            100% { background-position: 100px 0; }\n",
       "                        }\n",
       "                    </style>\n",
       "                    &nbsp;\n",
       "                  </div>\n",
       "                </div>"
      ],
      "text/plain": [
       "HtmlProgressBar cannot be displayed. Please use the TerminalProgressBar. It can be enabled with `nengo.rc.set('progress', 'progress_bar', 'nengo.utils.progress.TerminalProgressBar')`."
      ]
     },
     "metadata": {},
     "output_type": "display_data"
    },
    {
     "data": {
      "application/vdom.v1+json": {
       "attributes": {
        "id": "3d49942b-a863-4a58-b53c-1c901be3a7d7",
        "style": {
         "border": "1px solid #cfcfcf",
         "borderRadius": "4px",
         "boxSizing": "border-box",
         "position": "relative",
         "textAlign": "center",
         "width": "100%"
        }
       },
       "children": [
        {
         "attributes": {
          "class": "pb-text",
          "style": {
           "position": "absolute",
           "width": "100%"
          }
         },
         "children": [
          "Simulation finished in 0:00:09."
         ],
         "tagName": "div"
        },
        {
         "attributes": {
          "class": "pb-fill",
          "style": {
           "animation": "none",
           "backgroundColor": "#bdd2e6",
           "backgroundImage": "none",
           "transition": "width 0.1s linear",
           "width": "100%"
          }
         },
         "children": [
          {
           "attributes": {
            "scoped": "scoped",
            "type": "text/css"
           },
           "children": [
            "\n                        @keyframes pb-fill-anim {\n                            0% { background-position: 0 0; }\n                            100% { background-position: 100px 0; }\n                        }}"
           ],
           "tagName": "style"
          },
          " "
         ],
         "tagName": "div"
        }
       ],
       "tagName": "div"
      },
      "text/html": [
       "<script>\n",
       "              (function () {\n",
       "                  var root = document.getElementById('f329aaaa-0db7-4bb4-8ff8-385551609af2');\n",
       "                  var text = root.getElementsByClassName('pb-text')[0];\n",
       "                  var fill = root.getElementsByClassName('pb-fill')[0];\n",
       "\n",
       "                  text.innerHTML = 'Simulation finished in 0:00:09.';\n",
       "                  \n",
       "            if (100.0 > 0.) {\n",
       "                fill.style.transition = 'width 0.1s linear';\n",
       "            } else {\n",
       "                fill.style.transition = 'none';\n",
       "            }\n",
       "\n",
       "            fill.style.width = '100.0%';\n",
       "            fill.style.animation = 'none';\n",
       "            fill.style.backgroundImage = 'none'\n",
       "        \n",
       "                  \n",
       "                fill.style.animation = 'none';\n",
       "                fill.style.backgroundImage = 'none';\n",
       "            \n",
       "              })();\n",
       "        </script>"
      ]
     },
     "metadata": {},
     "output_type": "display_data"
    },
    {
     "data": {
      "image/png": "[encoded data removed]",
      "text/plain": [
       "<Figure size 432x288 with 1 Axes>"
      ]
     },
     "metadata": {
      "needs_background": "light"
     },
     "output_type": "display_data"
    }
   ],
   "source": [
    "import nengo\n",
    "import nengo_spa as spa\n",
    "import matplotlib.pyplot as plt\n",
    "%matplotlib inline\n",
    "# with and without seed\n",
    "import numpy as np\n",
    "import random\n",
    "import numpy as np\n",
    "import pickle\n",
    "d = 128  # the dimensionality of the vectors\n",
    "# note dimension\n",
    "SDT_variable = 1\n",
    "proportion_ablate = 0.0\n",
    "noise_std = 0.01\n",
    "time_interval = 1.0\n",
    "wait =  0.0\n",
    "feedback_synapse = 0.1\n",
    "\n",
    "with spa.Network() as model:\n",
    "        \n",
    "       \n",
    "        feedback = 1.5       \n",
    " \n",
    "            \n",
    "        noise = nengo.Node(nengo.processes.WhiteNoise(nengo.dists.Gaussian (0,noise_std)), size_out = d)\n",
    "        timer = time_interval + wait\n",
    "        vocab = spa.Vocabulary(d)\n",
    "        vocab.populate('BLUE; RED; GREEN')\n",
    "        GREEN = vocab.parse('GREEN')\n",
    "        RED = vocab.parse('RED')\n",
    "        BLUE = vocab.parse('BLUE')\n",
    "            \n",
    "       \n",
    "        Color = spa.State(vocab, feedback = feedback, represent_cc_identity = False)\n",
    "        \n",
    "        nengo.Connection(noise,Color.input, synapse = 0.01)\n",
    "        \n",
    "        \n",
    "        def input(t):\n",
    "                if t < time_interval:\n",
    "                    return BLUE\n",
    "                elif t < timer:\n",
    "                    return '0'\n",
    "                elif t < timer + time_interval:\n",
    "                    return RED\n",
    "                elif t < 2 * timer:\n",
    "                    return '0'\n",
    "                elif t < 2 * timer + time_interval:\n",
    "                    return GREEN\n",
    "                elif t < 3 * timer:\n",
    "                    return '0'\n",
    "                else:\n",
    "                    return '0'\n",
    "        \n",
    "        \n",
    "        color_trans = spa.Transcode(function = input, output_vocab = vocab)\n",
    "        color_trans >> Color\n",
    "        probe_Color = nengo.Probe(Color.output, synapse = 0.01) \n",
    "        \n",
    "        def ablate_ensemble(ens, proportion_ablate, sim, bias=True):\n",
    "                n_neurons = min(int(ens.n_neurons * proportion_ablate), ens.n_neurons)\n",
    "                idx = np.random.choice(np.arange(ens.n_neurons), replace=False, size=n_neurons)\n",
    "                encoder_sig = sim.signals[sim.model.sig[ens]['encoders']]\n",
    "                encoder_sig.setflags(write=True)\n",
    "                encoder_sig[idx] = 0.0\n",
    "                encoder_sig.setflags(write=False)\n",
    "                if bias:\n",
    "\n",
    "                    bias_sig = sim.signals[sim.model.sig[ens.neurons]['bias']]\n",
    "                    bias_sig.setflags(write=True)\n",
    "                    bias_sig[idx] = -1000\n",
    "\n",
    "\n",
    "\n",
    "        \n",
    "        with nengo.Simulator(model) as sim:  # Create the simulator\n",
    "                for j in range (0, int(d/16)):\n",
    "                    ens = Color.all_ensembles[j]\n",
    "                    ablate_ensemble(ens, proportion_ablate, sim )\n",
    "               \n",
    "                sim.run(timer * 6)  \n",
    "        \n",
    "        numbers  = spa.similarity(sim.data[probe_Color], vocab, normalize = True)\n",
    "                \n",
    "        numbers_array = np.asarray(numbers)   \n",
    "                 \n",
    "        pickle.dump(numbers, open(\"data_em2fb_15\", \"wb\"))\n",
    "        graph_n_em2fb_15 = pickle.load(open(\"data_em2fb_15\", \"rb\"))\n",
    "        #sally_n_em2fb_1 = pickle.load(open(\"n_em2fb_1\", \"rb\"))\n",
    "        plt.figure()\n",
    "        xmin, xmax = 0, 6\n",
    "        ymin, ymax = -0.5, 2.2\n",
    "        x_range = np.linspace(0,6.0, 6000)\n",
    "        plt.plot(x_range,graph_n_em2fb_15[:,0], 'b-', label = 'blue noise std 1e-2, fb 1.5' )\n",
    "        plt.plot(x_range,graph_n_em2fb_15[:,1], 'r-', label = 'red noise std 1e-2, fb 1.5' )\n",
    "        plt.plot(x_range,graph_n_em2fb_15[:,2], 'g-', label = 'green noise std 1e-2, fb 1.5' )\n",
    "        \n",
    "       \n",
    "        \n",
    "        left_pt = [0,0.5]\n",
    "        right_pt = [6,0.5]\n",
    "        x_pts = [left_pt[0], right_pt[0]]\n",
    "        y_pts = [left_pt[1], right_pt[1]]\n",
    "        plt.plot(x_pts, y_pts, color = \"orange\")\n",
    "        \n",
    "        \n",
    "        plt.legend(['noise 1e-2, fb 1', 'noise 1e-2, fb 1.4'],  loc='best')\n",
    "        plt.tight_layout()\n",
    "        \n",
    "        plt.title(\"Figure 7 - Increasing feedback overcomes noise to afford \\n increased persistence of representation\")\n",
    "        plt.xlabel(\"Time (s)\")\n",
    "        plt.ylabel(\"Vector representation\")\n",
    "        plt.ylim(ymin, ymax)\n",
    "        plt.xlim(xmin, xmax)\n",
    "        plt.savefig('Figure7_June26.pdf')\n",
    "        \n",
    "        feedback = 1.0    \n",
    " \n",
    "            \n",
    "        noise = nengo.Node(nengo.processes.WhiteNoise(nengo.dists.Gaussian (0,noise_std)), size_out = d)\n",
    "        timer = time_interval + wait\n",
    "        vocab = spa.Vocabulary(d)\n",
    "        vocab.populate('BLUE; RED; GREEN')\n",
    "        GREEN = vocab.parse('GREEN')\n",
    "        RED = vocab.parse('RED')\n",
    "        BLUE = vocab.parse('BLUE')\n",
    "            \n",
    "       \n",
    "        Color = spa.State(vocab, feedback = feedback, represent_cc_identity = False)\n",
    "        \n",
    "        nengo.Connection(noise,Color.input, synapse = 0.01)\n",
    "        \n",
    "        \n",
    "        def input(t):\n",
    "                if t < time_interval:\n",
    "                    return BLUE\n",
    "                elif t < timer:\n",
    "                    return '0'\n",
    "                elif t < timer + time_interval:\n",
    "                    return RED\n",
    "                elif t < 2 * timer:\n",
    "                    return '0'\n",
    "                elif t < 2 * timer + time_interval:\n",
    "                    return GREEN\n",
    "                elif t < 3 * timer:\n",
    "                    return '0'\n",
    "                else:\n",
    "                    return '0'\n",
    "        \n",
    "        \n",
    "        color_trans = spa.Transcode(function = input, output_vocab = vocab)\n",
    "        color_trans >> Color\n",
    "        probe_Color = nengo.Probe(Color.output, synapse = 0.01) \n",
    "        \n",
    "        def ablate_ensemble(ens, proportion_ablate, sim, bias=True):\n",
    "                n_neurons = min(int(ens.n_neurons * proportion_ablate), ens.n_neurons)\n",
    "                idx = np.random.choice(np.arange(ens.n_neurons), replace=False, size=n_neurons)\n",
    "                encoder_sig = sim.signals[sim.model.sig[ens]['encoders']]\n",
    "                encoder_sig.setflags(write=True)\n",
    "                encoder_sig[idx] = 0.0\n",
    "                encoder_sig.setflags(write=False)\n",
    "                if bias:\n",
    "\n",
    "                    bias_sig = sim.signals[sim.model.sig[ens.neurons]['bias']]\n",
    "                    bias_sig.setflags(write=True)\n",
    "                    bias_sig[idx] = -1000\n",
    "\n",
    "\n",
    "\n",
    "        \n",
    "        with nengo.Simulator(model) as sim:  # Create the simulator\n",
    "                for j in range (0, int(d/16)):\n",
    "                    ens = Color.all_ensembles[j]\n",
    "                    ablate_ensemble(ens, proportion_ablate, sim )\n",
    "               \n",
    "                sim.run(timer * 6)  \n",
    "        \n",
    "        numbers  = spa.similarity(sim.data[probe_Color], vocab, normalize = True)\n",
    "                \n",
    "        numbers_array = np.asarray(numbers)   \n",
    "                 \n",
    "        pickle.dump(numbers, open(\"data_em2fb_10\", \"wb\"))\n",
    "        graph_n_em2fb_10 = pickle.load(open(\"data_em2fb_10\", \"rb\"))\n",
    "        \n",
    "        \n",
    "        plt.figure()\n",
    "        xmin, xmax = 1, 1.5\n",
    "        ymin, ymax = -0.5, 1.2\n",
    "        x_range = np.linspace(0,6.0, 6000)\n",
    "        plt.plot(x_range, graph_n_em2_fb10[:,0], 'b-', label = \"blue, noise fb 1.0\")\n",
    "        left_pt = [0,0.5]\n",
    "        right_pt = [5,0.5]\n",
    "        x_pts = [left_pt[0], right_pt[0]]\n",
    "        y_pts = [left_pt[1], right_pt[1]]\n",
    "        plt.plot(x_pts, y_pts, color = \"black\")\n",
    "        \n",
    "        \n",
    "        plt.legend(['noise 1e-2, fb 1', 'noise 1e-2, fb 1.4'],  loc='best')\n",
    "        plt.tight_layout()\n",
    "        \n",
    "        plt.title(\"Figure 9a - Increasing feedback compensates for noise, at the cost of increased slowing\")\n",
    "        plt.xlabel(\"Time (s)\")\n",
    "        plt.ylabel(\"Vector representation\")\n",
    "        plt.ylim(ymin, ymax)\n",
    "        plt.xlim(xmin, xmax)\n",
    "        \n",
    "        bb=np.array([1])\n",
    "        plt.plot(bb * 1.092,bb * 0.69,marker=\"H\", fillstyle='none', markersize=20, linewidth=0)\n",
    "        plt.plot(bb * 1.22,bb * 0.69,marker=\"H\", fillstyle='none', markersize=20, linewidth=0)\n",
    "        \n",
    "        plt.savefig('Figure9a.pdf')\n",
    "        \n",
    "        '''\n",
    "        \n",
    "                                                       \n",
    "        \n",
    "        \n"
   ]
  },
  {
   "cell_type": "code",
   "execution_count": null,
   "metadata": {},
   "outputs": [],
   "source": []
  },
  {
   "cell_type": "code",
   "execution_count": null,
   "metadata": {},
   "outputs": [],
   "source": []
  },
  {
   "cell_type": "code",
   "execution_count": null,
   "metadata": {},
   "outputs": [],
   "source": []
  },
  {
   "cell_type": "code",
   "execution_count": null,
   "metadata": {},
   "outputs": [],
   "source": []
  }
 ],
 "metadata": {
  "kernelspec": {
   "display_name": "Python 3",
   "language": "python",
   "name": "python3"
  },
  "language_info": {
   "codemirror_mode": {
    "name": "ipython",
    "version": 3
   },
   "file_extension": ".py",
   "mimetype": "text/x-python",
   "name": "python",
   "nbconvert_exporter": "python",
   "pygments_lexer": "ipython3",
   "version": "3.7.4"
  }
 },
 "nbformat": 4,
 "nbformat_minor": 2
}
