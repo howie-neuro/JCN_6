{
 "cells": [
  {
   "cell_type": "code",
   "execution_count": 2,
   "metadata": {},
   "outputs": [
    {
     "data": {
      "application/vdom.v1+json": {
       "attributes": {},
       "tagName": "div"
      },
      "text/html": [
       "\n",
       "                <script>\n",
       "                    if (Jupyter.version.split(\".\")[0] < 5) {\n",
       "                        var pb = document.getElementById(\"3350ddff-ecd8-4974-870f-caf201ea1e41\");\n",
       "                        var text = document.createTextNode(\n",
       "                            \"HMTL progress bar requires Jupyter Notebook >= \" +\n",
       "                            \"5.0 or Jupyter Lab. Alternatively, you can use \" +\n",
       "                            \"TerminalProgressBar().\");\n",
       "                        pb.parentNode.insertBefore(text, pb);\n",
       "                    }\n",
       "                </script>\n",
       "                <div id=\"3350ddff-ecd8-4974-870f-caf201ea1e41\" style=\"\n",
       "                    width: 100%;\n",
       "                    border: 1px solid #cfcfcf;\n",
       "                    border-radius: 4px;\n",
       "                    text-align: center;\n",
       "                    position: relative;\">\n",
       "                  <div class=\"pb-text\" style=\"\n",
       "                      position: absolute;\n",
       "                      width: 100%;\">\n",
       "                    0%\n",
       "                  </div>\n",
       "                  <div class=\"pb-fill\" style=\"\n",
       "                      background-color: #bdd2e6;\n",
       "                      width: 0%;\">\n",
       "                    <style type=\"text/css\" scoped=\"scoped\">\n",
       "                        @keyframes pb-fill-anim {\n",
       "                            0% { background-position: 0 0; }\n",
       "                            100% { background-position: 100px 0; }\n",
       "                        }\n",
       "                    </style>\n",
       "                    &nbsp;\n",
       "                  </div>\n",
       "                </div>"
      ],
      "text/plain": [
       "HtmlProgressBar cannot be displayed. Please use the TerminalProgressBar. It can be enabled with `nengo.rc.set('progress', 'progress_bar', 'nengo.utils.progress.TerminalProgressBar')`."
      ]
     },
     "metadata": {},
     "output_type": "display_data"
    },
    {
     "data": {
      "application/vdom.v1+json": {
       "attributes": {
        "id": "4d8ad529-53a8-4f83-8ce7-c87e3aeac136",
        "style": {
         "border": "1px solid #cfcfcf",
         "borderRadius": "4px",
         "boxSizing": "border-box",
         "position": "relative",
         "textAlign": "center",
         "width": "100%"
        }
       },
       "children": [
        {
         "attributes": {
          "class": "pb-text",
          "style": {
           "position": "absolute",
           "width": "100%"
          }
         },
         "children": [
          "Build finished in 0:00:12."
         ],
         "tagName": "div"
        },
        {
         "attributes": {
          "class": "pb-fill",
          "style": {
           "animation": "none",
           "backgroundColor": "#bdd2e6",
           "backgroundImage": "none",
           "backgroundSize": "100px 100%",
           "width": "100%"
          }
         },
         "children": [
          {
           "attributes": {
            "scoped": "scoped",
            "type": "text/css"
           },
           "children": [
            "\n                        @keyframes pb-fill-anim {\n                            0% { background-position: 0 0; }\n                            100% { background-position: 100px 0; }\n                        }}"
           ],
           "tagName": "style"
          },
          " "
         ],
         "tagName": "div"
        }
       ],
       "tagName": "div"
      },
      "text/html": [
       "<script>\n",
       "              (function () {\n",
       "                  var root = document.getElementById('3350ddff-ecd8-4974-870f-caf201ea1e41');\n",
       "                  var text = root.getElementsByClassName('pb-text')[0];\n",
       "                  var fill = root.getElementsByClassName('pb-fill')[0];\n",
       "\n",
       "                  text.innerHTML = 'Build finished in 0:00:12.';\n",
       "                  \n",
       "            fill.style.width = '100%';\n",
       "            fill.style.animation = 'pb-fill-anim 2s linear infinite';\n",
       "            fill.style.backgroundSize = '100px 100%';\n",
       "            fill.style.backgroundImage = 'repeating-linear-gradient(' +\n",
       "                '90deg, #bdd2e6, #edf2f8 40%, #bdd2e6 80%, #bdd2e6)';\n",
       "        \n",
       "                  \n",
       "                fill.style.animation = 'none';\n",
       "                fill.style.backgroundImage = 'none';\n",
       "            \n",
       "              })();\n",
       "        </script>"
      ]
     },
     "metadata": {},
     "output_type": "display_data"
    },
    {
     "data": {
      "application/vdom.v1+json": {
       "attributes": {},
       "tagName": "div"
      },
      "text/html": [
       "\n",
       "                <script>\n",
       "                    if (Jupyter.version.split(\".\")[0] < 5) {\n",
       "                        var pb = document.getElementById(\"f41536a6-7ad2-4515-97ec-e91d43bc1061\");\n",
       "                        var text = document.createTextNode(\n",
       "                            \"HMTL progress bar requires Jupyter Notebook >= \" +\n",
       "                            \"5.0 or Jupyter Lab. Alternatively, you can use \" +\n",
       "                            \"TerminalProgressBar().\");\n",
       "                        pb.parentNode.insertBefore(text, pb);\n",
       "                    }\n",
       "                </script>\n",
       "                <div id=\"f41536a6-7ad2-4515-97ec-e91d43bc1061\" style=\"\n",
       "                    width: 100%;\n",
       "                    border: 1px solid #cfcfcf;\n",
       "                    border-radius: 4px;\n",
       "                    text-align: center;\n",
       "                    position: relative;\">\n",
       "                  <div class=\"pb-text\" style=\"\n",
       "                      position: absolute;\n",
       "                      width: 100%;\">\n",
       "                    0%\n",
       "                  </div>\n",
       "                  <div class=\"pb-fill\" style=\"\n",
       "                      background-color: #bdd2e6;\n",
       "                      width: 0%;\">\n",
       "                    <style type=\"text/css\" scoped=\"scoped\">\n",
       "                        @keyframes pb-fill-anim {\n",
       "                            0% { background-position: 0 0; }\n",
       "                            100% { background-position: 100px 0; }\n",
       "                        }\n",
       "                    </style>\n",
       "                    &nbsp;\n",
       "                  </div>\n",
       "                </div>"
      ],
      "text/plain": [
       "HtmlProgressBar cannot be displayed. Please use the TerminalProgressBar. It can be enabled with `nengo.rc.set('progress', 'progress_bar', 'nengo.utils.progress.TerminalProgressBar')`."
      ]
     },
     "metadata": {},
     "output_type": "display_data"
    },
    {
     "data": {
      "application/vdom.v1+json": {
       "attributes": {
        "id": "9596d8ed-8435-4607-b2f1-f065081efb55",
        "style": {
         "border": "1px solid #cfcfcf",
         "borderRadius": "4px",
         "boxSizing": "border-box",
         "position": "relative",
         "textAlign": "center",
         "width": "100%"
        }
       },
       "children": [
        {
         "attributes": {
          "class": "pb-text",
          "style": {
           "position": "absolute",
           "width": "100%"
          }
         },
         "children": [
          "Simulation finished in 0:00:06."
         ],
         "tagName": "div"
        },
        {
         "attributes": {
          "class": "pb-fill",
          "style": {
           "animation": "none",
           "backgroundColor": "#bdd2e6",
           "backgroundImage": "none",
           "transition": "width 0.1s linear",
           "width": "100%"
          }
         },
         "children": [
          {
           "attributes": {
            "scoped": "scoped",
            "type": "text/css"
           },
           "children": [
            "\n                        @keyframes pb-fill-anim {\n                            0% { background-position: 0 0; }\n                            100% { background-position: 100px 0; }\n                        }}"
           ],
           "tagName": "style"
          },
          " "
         ],
         "tagName": "div"
        }
       ],
       "tagName": "div"
      },
      "text/html": [
       "<script>\n",
       "              (function () {\n",
       "                  var root = document.getElementById('f41536a6-7ad2-4515-97ec-e91d43bc1061');\n",
       "                  var text = root.getElementsByClassName('pb-text')[0];\n",
       "                  var fill = root.getElementsByClassName('pb-fill')[0];\n",
       "\n",
       "                  text.innerHTML = 'Simulation finished in 0:00:06.';\n",
       "                  \n",
       "            if (100.0 > 0.) {\n",
       "                fill.style.transition = 'width 0.1s linear';\n",
       "            } else {\n",
       "                fill.style.transition = 'none';\n",
       "            }\n",
       "\n",
       "            fill.style.width = '100.0%';\n",
       "            fill.style.animation = 'none';\n",
       "            fill.style.backgroundImage = 'none'\n",
       "        \n",
       "                  \n",
       "                fill.style.animation = 'none';\n",
       "                fill.style.backgroundImage = 'none';\n",
       "            \n",
       "              })();\n",
       "        </script>"
      ]
     },
     "metadata": {},
     "output_type": "display_data"
    },
    {
     "data": {
      "image/png": "[encoded data removed]",
      "text/plain": [
       "<Figure size 432x288 with 1 Axes>"
      ]
     },
     "metadata": {
      "needs_background": "light"
     },
     "output_type": "display_data"
    }
   ],
   "source": [
    "import nengo\n",
    "import nengo_spa as spa\n",
    "import matplotlib.pyplot as plt\n",
    "%matplotlib inline\n",
    "# with and without seed\n",
    "import numpy as np\n",
    "import random\n",
    "import numpy as np\n",
    "import pickle\n",
    "d = 128  # the dimensionality of the vectors\n",
    "# note dimension\n",
    "SDT_variable = 3\n",
    "proportion_ablate = 0.0\n",
    "noise_std = 0.005\n",
    "time_interval = 0.25\n",
    "wait =  0.0\n",
    "feedback_synapse = 0.1\n",
    "\n",
    "with spa.Network() as model:\n",
    "        \n",
    "       \n",
    "        feedback = 1        \n",
    " \n",
    "            \n",
    "        noise = nengo.Node(nengo.processes.WhiteNoise(nengo.dists.Gaussian (0,noise_std)), size_out = d)\n",
    "        timer = time_interval + wait\n",
    "        vocab = spa.Vocabulary(d)\n",
    "        vocab.populate('BLUE; RED; GREEN; BROWN; GOLD')\n",
    "      \n",
    "        BLUE = vocab.parse('BLUE')\n",
    "        RED = vocab.parse('RED')\n",
    "        GREEN = vocab.parse('GREEN')\n",
    "        BROWN = vocab.parse('BROWN')\n",
    "        GOLD = vocab.parse('GOLD')\n",
    "            \n",
    "       \n",
    "        Color = spa.State(vocab, feedback = feedback, represent_cc_identity = False)\n",
    "        Color_1 = spa.State(vocab, feedback = feedback, represent_cc_identity = False)\n",
    "        Color_2 = spa.State(vocab, feedback = feedback, represent_cc_identity = False)\n",
    "        \n",
    "        nengo.Connection(noise,Color.input, synapse = 0.01)\n",
    "        \n",
    "        Color >> Color_1\n",
    "        Color_1 >> Color_2\n",
    "        \n",
    "        def input(t):\n",
    "                if t < time_interval:\n",
    "                    return BLUE\n",
    "                elif t < timer:\n",
    "                    return '0'\n",
    "                elif t < timer + time_interval:\n",
    "                    return RED\n",
    "                elif t < 2 * timer:\n",
    "                    return '0'\n",
    "                elif t < 2 * timer + time_interval:\n",
    "                    return GREEN\n",
    "                elif t < 3 * timer:\n",
    "                    return '0'\n",
    "                elif t < 3 * timer + time_interval:\n",
    "                    return BROWN\n",
    "                elif t < 4 * timer:\n",
    "                    return '0'\n",
    "                elif t < 4 * timer + time_interval:\n",
    "                    return GOLD\n",
    "                elif t < 5 * timer:\n",
    "                    return '0'         \n",
    "                else:\n",
    "                    return '0'\n",
    "        \n",
    "        \n",
    "        color_trans = spa.Transcode(function = input, output_vocab = vocab)\n",
    "        color_trans >> Color\n",
    "        probe_Color_2 = nengo.Probe(Color_2.output, synapse = 0.01) \n",
    "        \n",
    "        def ablate_ensemble(ens, proportion_ablate, sim, bias=True):\n",
    "                n_neurons = min(int(ens.n_neurons * proportion_ablate), ens.n_neurons)\n",
    "                idx = np.random.choice(np.arange(ens.n_neurons), replace=False, size=n_neurons)\n",
    "                encoder_sig = sim.signals[sim.model.sig[ens]['encoders']]\n",
    "                encoder_sig.setflags(write=True)\n",
    "                encoder_sig[idx] = 0.0\n",
    "                encoder_sig.setflags(write=False)\n",
    "                if bias:\n",
    "\n",
    "                    bias_sig = sim.signals[sim.model.sig[ens.neurons]['bias']]\n",
    "                    bias_sig.setflags(write=True)\n",
    "                    bias_sig[idx] = -1000\n",
    "\n",
    "\n",
    "\n",
    "        \n",
    "        with nengo.Simulator(model) as sim:  # Create the simulator\n",
    "                for j in range (0, int(d/16)):\n",
    "                    ens = Color.all_ensembles[j]\n",
    "                    ablate_ensemble(ens, proportion_ablate, sim )\n",
    "               \n",
    "                sim.run(timer * 6)  \n",
    "        \n",
    "        numbers  = spa.similarity(sim.data[probe_Color_2], vocab, normalize = True)\n",
    "                 \n",
    "        pickle.dump(numbers, open(\"interval250\", \"wb\"))\n",
    "        sally_interval250 = pickle.load(open(\"interval250\", \"rb\"))\n",
    "        \n",
    "        plt.figure()\n",
    "        xmin, xmax = 0, 5\n",
    "        ymin, ymax = -0.5, 1.2\n",
    "        x_range = np.linspace(0,1.5, 1500)\n",
    "        plt.plot(x_range,sally_interval250[:,0], 'b-', label = 'blue' )\n",
    "        plt.plot(x_range,sally_interval250[:,1], 'r-', label = 'red' )\n",
    "        plt.plot(x_range,sally_interval250[:,2], 'g-', label = 'green' )\n",
    "        plt.plot(x_range,sally_interval250[:,3], 'brown','-', label = 'brown' )\n",
    "        plt.plot(x_range,sally_interval250[:,4], 'gold', '-', label = 'gold' )\n",
    "       \n",
    "        #plt.legend(['noise 1e-2, fb 1', 'noise 1e-2, fb 1.4'],  loc='best')\n",
    "        plt.tight_layout()\n",
    "        \n",
    "        plt.title(\"Figure 9 - Effect of interstimulusinterval on model performance\")\n",
    "        plt.xlabel(\"Time (s)\")\n",
    "        plt.ylabel(\"Vector representation\")\n",
    "        plt.ylim(ymin, ymax)\n",
    "        plt.xlim(xmin, xmax)\n",
    "                                                       \n",
    "        \n",
    "        \n"
   ]
  },
  {
   "cell_type": "code",
   "execution_count": null,
   "metadata": {},
   "outputs": [],
   "source": []
  },
  {
   "cell_type": "code",
   "execution_count": null,
   "metadata": {},
   "outputs": [],
   "source": []
  },
  {
   "cell_type": "code",
   "execution_count": null,
   "metadata": {},
   "outputs": [],
   "source": []
  },
  {
   "cell_type": "code",
   "execution_count": null,
   "metadata": {},
   "outputs": [],
   "source": []
  }
 ],
 "metadata": {
  "kernelspec": {
   "display_name": "Python 3",
   "language": "python",
   "name": "python3"
  },
  "language_info": {
   "codemirror_mode": {
    "name": "ipython",
    "version": 3
   },
   "file_extension": ".py",
   "mimetype": "text/x-python",
   "name": "python",
   "nbconvert_exporter": "python",
   "pygments_lexer": "ipython3",
   "version": "3.7.4"
  }
 },
 "nbformat": 4,
 "nbformat_minor": 2
}
